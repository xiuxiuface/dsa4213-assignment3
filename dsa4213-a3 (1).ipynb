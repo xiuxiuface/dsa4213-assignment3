{
 "cells": [
  {
   "cell_type": "code",
   "execution_count": 1,
   "metadata": {
    "execution": {
     "iopub.execute_input": "2025-10-21T00:14:46.365218Z",
     "iopub.status.busy": "2025-10-21T00:14:46.364871Z",
     "iopub.status.idle": "2025-10-21T00:14:50.279448Z",
     "shell.execute_reply": "2025-10-21T00:14:50.278309Z",
     "shell.execute_reply.started": "2025-10-21T00:14:46.365189Z"
    },
    "trusted": true
   },
   "outputs": [],
   "source": [
    "!pip install -q numpy==1.26.4 torch==2.3.0 transformers==4.40.2 datasets==2.20.0 peft==0.10.0 scikit-learn matplotlib accelerate\n"
   ]
  },
  {
   "cell_type": "code",
   "execution_count": 2,
   "metadata": {
    "execution": {
     "iopub.execute_input": "2025-10-21T00:14:50.282372Z",
     "iopub.status.busy": "2025-10-21T00:14:50.281759Z",
     "iopub.status.idle": "2025-10-21T01:12:27.849889Z",
     "shell.execute_reply": "2025-10-21T01:12:27.849292Z",
     "shell.execute_reply.started": "2025-10-21T00:14:50.282348Z"
    },
    "trusted": true
   },
   "outputs": [
    {
     "name": "stderr",
     "output_type": "stream",
     "text": [
      "The cache for model files in Transformers v4.22.0 has been updated. Migrating your old cache. This is a one-time only operation. You can interrupt this and resume the migration later on by calling `transformers.utils.move_cache()`.\n"
     ]
    },
    {
     "data": {
      "application/vnd.jupyter.widget-view+json": {
       "model_id": "1f4a341870fb45e4b6bd3ca06bd794f2",
       "version_major": 2,
       "version_minor": 0
      },
      "text/plain": [
       "0it [00:00, ?it/s]"
      ]
     },
     "metadata": {},
     "output_type": "display_data"
    },
    {
     "name": "stderr",
     "output_type": "stream",
     "text": [
      "2025-10-21 00:14:54.190966: E external/local_xla/xla/stream_executor/cuda/cuda_fft.cc:477] Unable to register cuFFT factory: Attempting to register factory for plugin cuFFT when one has already been registered\n",
      "WARNING: All log messages before absl::InitializeLog() is called are written to STDERR\n",
      "E0000 00:00:1761005694.214437     163 cuda_dnn.cc:8310] Unable to register cuDNN factory: Attempting to register factory for plugin cuDNN when one has already been registered\n",
      "E0000 00:00:1761005694.221312     163 cuda_blas.cc:1418] Unable to register cuBLAS factory: Attempting to register factory for plugin cuBLAS when one has already been registered\n"
     ]
    },
    {
     "name": "stdout",
     "output_type": "stream",
     "text": [
      "============================================================\n",
      "STRATEGY 1: FULL FINE-TUNING\n",
      "============================================================\n",
      "Loading IMDb dataset...\n"
     ]
    },
    {
     "data": {
      "application/vnd.jupyter.widget-view+json": {
       "model_id": "81e642f42a914122a7bede81cb0a08be",
       "version_major": 2,
       "version_minor": 0
      },
      "text/plain": [
       "Downloading readme: 0.00B [00:00, ?B/s]"
      ]
     },
     "metadata": {},
     "output_type": "display_data"
    },
    {
     "name": "stdout",
     "output_type": "stream",
     "text": [
      "Loading tokenizer...\n"
     ]
    },
    {
     "data": {
      "application/vnd.jupyter.widget-view+json": {
       "model_id": "c2066eead3c748b9b2f7c8dc4719f10c",
       "version_major": 2,
       "version_minor": 0
      },
      "text/plain": [
       "vocab.txt:   0%|          | 0.00/232k [00:00<?, ?B/s]"
      ]
     },
     "metadata": {},
     "output_type": "display_data"
    },
    {
     "data": {
      "application/vnd.jupyter.widget-view+json": {
       "model_id": "a96a3634999f480880df1e46ceaa150f",
       "version_major": 2,
       "version_minor": 0
      },
      "text/plain": [
       "tokenizer.json:   0%|          | 0.00/466k [00:00<?, ?B/s]"
      ]
     },
     "metadata": {},
     "output_type": "display_data"
    },
    {
     "name": "stdout",
     "output_type": "stream",
     "text": [
      "Tokenizing dataset...\n"
     ]
    },
    {
     "data": {
      "application/vnd.jupyter.widget-view+json": {
       "model_id": "a75b542e069e49508924fe596aed3327",
       "version_major": 2,
       "version_minor": 0
      },
      "text/plain": [
       "Map:   0%|          | 0/25000 [00:00<?, ? examples/s]"
      ]
     },
     "metadata": {},
     "output_type": "display_data"
    },
    {
     "data": {
      "application/vnd.jupyter.widget-view+json": {
       "model_id": "a63d02e9d1944491ab6c00e32f530a6e",
       "version_major": 2,
       "version_minor": 0
      },
      "text/plain": [
       "Map:   0%|          | 0/25000 [00:00<?, ? examples/s]"
      ]
     },
     "metadata": {},
     "output_type": "display_data"
    },
    {
     "data": {
      "application/vnd.jupyter.widget-view+json": {
       "model_id": "434f966bcc8941d0a331c04c9255411f",
       "version_major": 2,
       "version_minor": 0
      },
      "text/plain": [
       "Map:   0%|          | 0/50000 [00:00<?, ? examples/s]"
      ]
     },
     "metadata": {},
     "output_type": "display_data"
    },
    {
     "data": {
      "application/vnd.jupyter.widget-view+json": {
       "model_id": "bf0b0f70250648b593bb3923aad913b7",
       "version_major": 2,
       "version_minor": 0
      },
      "text/plain": [
       "model.safetensors:   0%|          | 0.00/268M [00:00<?, ?B/s]"
      ]
     },
     "metadata": {},
     "output_type": "display_data"
    },
    {
     "name": "stderr",
     "output_type": "stream",
     "text": [
      "Some weights of DistilBertForSequenceClassification were not initialized from the model checkpoint at distilbert-base-uncased and are newly initialized: ['classifier.bias', 'classifier.weight', 'pre_classifier.bias', 'pre_classifier.weight']\n",
      "You should probably TRAIN this model on a down-stream task to be able to use it for predictions and inference.\n"
     ]
    },
    {
     "name": "stdout",
     "output_type": "stream",
     "text": [
      "\n",
      "Total parameters: 66,955,010\n",
      "Trainable parameters: 66,955,010\n",
      "\n",
      "Training Full Fine-tuning...\n"
     ]
    },
    {
     "data": {
      "text/html": [
       "\n",
       "    <div>\n",
       "      \n",
       "      <progress value='2346' max='2346' style='width:300px; height:20px; vertical-align: middle;'></progress>\n",
       "      [2346/2346 47:47, Epoch 3/3]\n",
       "    </div>\n",
       "    <table border=\"1\" class=\"dataframe\">\n",
       "  <thead>\n",
       " <tr style=\"text-align: left;\">\n",
       "      <th>Epoch</th>\n",
       "      <th>Training Loss</th>\n",
       "      <th>Validation Loss</th>\n",
       "      <th>Accuracy</th>\n",
       "      <th>F1</th>\n",
       "    </tr>\n",
       "  </thead>\n",
       "  <tbody>\n",
       "    <tr>\n",
       "      <td>1</td>\n",
       "      <td>0.206900</td>\n",
       "      <td>0.205250</td>\n",
       "      <td>0.919080</td>\n",
       "      <td>0.915887</td>\n",
       "    </tr>\n",
       "    <tr>\n",
       "      <td>2</td>\n",
       "      <td>0.133200</td>\n",
       "      <td>0.198185</td>\n",
       "      <td>0.931080</td>\n",
       "      <td>0.931061</td>\n",
       "    </tr>\n",
       "    <tr>\n",
       "      <td>3</td>\n",
       "      <td>0.091000</td>\n",
       "      <td>0.234357</td>\n",
       "      <td>0.930720</td>\n",
       "      <td>0.931166</td>\n",
       "    </tr>\n",
       "  </tbody>\n",
       "</table><p>"
      ],
      "text/plain": [
       "<IPython.core.display.HTML object>"
      ]
     },
     "metadata": {},
     "output_type": "display_data"
    },
    {
     "name": "stdout",
     "output_type": "stream",
     "text": [
      "\n",
      "Evaluating Full Fine-tuning...\n"
     ]
    },
    {
     "data": {
      "text/html": [],
      "text/plain": [
       "<IPython.core.display.HTML object>"
      ]
     },
     "metadata": {},
     "output_type": "display_data"
    },
    {
     "name": "stdout",
     "output_type": "stream",
     "text": [
      "\n",
      "Full Fine-tuning Results:\n",
      "  Accuracy: 0.9307\n",
      "  F1-score: 0.9312\n",
      "  Total params: 66,955,010\n",
      "  Trainable params: 66,955,010\n",
      "\n",
      "✓ Results saved to: /kaggle/working/results/full_finetuning_results.json\n",
      "\n",
      "============================================================\n",
      "FULL FINE-TUNING COMPLETE!\n",
      "============================================================\n"
     ]
    }
   ],
   "source": [
    "import torch\n",
    "import numpy as np\n",
    "import os\n",
    "import json\n",
    "from datetime import datetime\n",
    "import warnings\n",
    "warnings.filterwarnings('ignore')\n",
    "\n",
    "os.environ[\"WANDB_DISABLED\"] = \"true\"\n",
    "\n",
    "from datasets import load_dataset\n",
    "from transformers import (\n",
    "    AutoTokenizer, AutoModelForSequenceClassification,\n",
    "    TrainingArguments, Trainer, DataCollatorWithPadding\n",
    ")\n",
    "from sklearn.metrics import accuracy_score, f1_score\n",
    "import matplotlib.pyplot as plt\n",
    "\n",
    "CONFIG = {\n",
    "    \"model_name\": \"distilbert-base-uncased\",\n",
    "    \"dataset_name\": \"imdb\",\n",
    "    \"max_length\": 512,\n",
    "    \"batch_size\": 16,\n",
    "    \"learning_rate\": 2e-5,\n",
    "    \"num_epochs\": 3,\n",
    "    \"seed\": 42,\n",
    "    \"output_dir\": \"/kaggle/working/results\",  # Kaggle output path\n",
    "}\n",
    "\n",
    "def set_seed(seed):\n",
    "    np.random.seed(seed)\n",
    "    torch.manual_seed(seed)\n",
    "    if torch.cuda.is_available():\n",
    "        torch.cuda.manual_seed_all(seed)\n",
    "\n",
    "def load_and_prepare_data(config):\n",
    "    print(\"Loading IMDb dataset...\")\n",
    "    dataset = load_dataset(config[\"dataset_name\"])\n",
    "    print(\"Loading tokenizer...\")\n",
    "    try:\n",
    "        tokenizer = AutoTokenizer.from_pretrained(\n",
    "            config[\"model_name\"],\n",
    "            use_fast=True,\n",
    "        )\n",
    "    except Exception as e:\n",
    "        print(f\"Warning: {e}\")\n",
    "        # Fallback: download and cache first\n",
    "        from transformers import DistilBertTokenizerFast\n",
    "        tokenizer = DistilBertTokenizerFast.from_pretrained(config[\"model_name\"])\n",
    "    \n",
    "    def tokenize_fn(examples):\n",
    "        return tokenizer(\n",
    "            examples[\"text\"],\n",
    "            max_length=config[\"max_length\"],\n",
    "            truncation=True,\n",
    "            padding=True\n",
    "        )\n",
    "    \n",
    "    print(\"Tokenizing dataset...\")\n",
    "    tokenized = dataset.map(tokenize_fn, batched=True, remove_columns=[\"text\"])\n",
    "    tokenized = tokenized.rename_column(\"label\", \"labels\")\n",
    "    \n",
    "    return tokenized, tokenizer\n",
    "\n",
    "def setup_model(config):\n",
    "    \"\"\"Load model for full fine-tuning.\"\"\"\n",
    "    model = AutoModelForSequenceClassification.from_pretrained(\n",
    "        config[\"model_name\"],\n",
    "        num_labels=2\n",
    "    )\n",
    "    total_params = sum(p.numel() for p in model.parameters())\n",
    "    trainable_params = sum(p.numel() for p in model.parameters() if p.requires_grad)\n",
    "    print(f\"\\nTotal parameters: {total_params:,}\")\n",
    "    print(f\"Trainable parameters: {trainable_params:,}\")\n",
    "    return model\n",
    "\n",
    "def compute_metrics(eval_pred):\n",
    "    \"\"\"Compute accuracy and F1 score.\"\"\"\n",
    "    predictions, labels = eval_pred\n",
    "    predictions = np.argmax(predictions, axis=1)\n",
    "    accuracy = accuracy_score(labels, predictions)\n",
    "    f1 = f1_score(labels, predictions)\n",
    "    return {\"accuracy\": accuracy, \"f1\": f1}\n",
    "\n",
    "def train_model(model, tokenized_data, config):\n",
    "    \"\"\"Train the model.\"\"\"\n",
    "    training_args = TrainingArguments(\n",
    "        output_dir=f\"{config['output_dir']}/full_finetuning\",\n",
    "        overwrite_output_dir=True,\n",
    "        num_train_epochs=config[\"num_epochs\"],\n",
    "        per_device_train_batch_size=config[\"batch_size\"],\n",
    "        per_device_eval_batch_size=config[\"batch_size\"],\n",
    "        learning_rate=config[\"learning_rate\"],\n",
    "        logging_steps=100,\n",
    "        evaluation_strategy=\"epoch\", \n",
    "\n",
    "        save_strategy=\"epoch\",\n",
    "        load_best_model_at_end=True,\n",
    "        metric_for_best_model=\"f1\",\n",
    "        seed=config[\"seed\"],\n",
    "        report_to=\"none\",  # Disable all logging integrations\n",
    "    )\n",
    "    \n",
    "    tokenizer = AutoTokenizer.from_pretrained(\n",
    "        config[\"model_name\"],\n",
    "        use_fast=True,\n",
    "        trust_remote_code=False\n",
    "    )\n",
    "    data_collator = DataCollatorWithPadding(tokenizer)\n",
    "    \n",
    "    trainer = Trainer(\n",
    "        model=model,\n",
    "        args=training_args,\n",
    "        train_dataset=tokenized_data[\"train\"],\n",
    "        eval_dataset=tokenized_data[\"test\"],\n",
    "        compute_metrics=compute_metrics,\n",
    "        data_collator=data_collator,\n",
    "    )\n",
    "    \n",
    "    print(\"\\nTraining Full Fine-tuning...\")\n",
    "    trainer.train()\n",
    "    return trainer\n",
    "\n",
    "def evaluate_and_save(trainer, tokenized_data, config):\n",
    "    print(\"\\nEvaluating Full Fine-tuning...\")\n",
    "    eval_results = trainer.evaluate()\n",
    "    \n",
    "    predictions = trainer.predict(tokenized_data[\"test\"])\n",
    "    pred_labels = np.argmax(predictions.predictions, axis=1)\n",
    "    true_labels = tokenized_data[\"test\"][\"labels\"]\n",
    "    \n",
    "    results = {\n",
    "        \"strategy\": \"Full Fine-tuning\",\n",
    "        \"accuracy\": eval_results.get(\"eval_accuracy\", 0),\n",
    "        \"f1\": eval_results.get(\"eval_f1\", 0),\n",
    "        \"model_size\": sum(p.numel() for p in trainer.model.parameters()),\n",
    "        \"trainable_params\": sum(p.numel() for p in trainer.model.parameters() if p.requires_grad),\n",
    "    }\n",
    "    \n",
    "    print(f\"\\nFull Fine-tuning Results:\")\n",
    "    print(f\"  Accuracy: {results['accuracy']:.4f}\")\n",
    "    print(f\"  F1-score: {results['f1']:.4f}\")\n",
    "    print(f\"  Total params: {results['model_size']:,}\")\n",
    "    print(f\"  Trainable params: {results['trainable_params']:,}\")\n",
    "    \n",
    "    # Save results\n",
    "    os.makedirs(config[\"output_dir\"], exist_ok=True)\n",
    "    results_summary = {\n",
    "        \"timestamp\": datetime.now().isoformat(),\n",
    "        \"config\": config,\n",
    "        \"results\": results,\n",
    "    }\n",
    "    \n",
    "    with open(f\"{config['output_dir']}/full_finetuning_results.json\", \"w\") as f:\n",
    "        json.dump(results_summary, f, indent=2)\n",
    "    print(f\"\\n✓ Results saved to: {config['output_dir']}/full_finetuning_results.json\")\n",
    "    \n",
    "    return results, pred_labels, true_labels\n",
    "\n",
    "def main():\n",
    "    set_seed(CONFIG[\"seed\"])\n",
    "    os.makedirs(CONFIG[\"output_dir\"], exist_ok=True)\n",
    "    \n",
    "    print(\"=\"*60)\n",
    "    print(\"STRATEGY 1: FULL FINE-TUNING\")\n",
    "    print(\"=\"*60)\n",
    "    \n",
    "    # Load data\n",
    "    tokenized_data, tokenizer = load_and_prepare_data(CONFIG)\n",
    "    \n",
    "    # Setup and train model\n",
    "    model = setup_model(CONFIG)\n",
    "    trainer = train_model(model, tokenized_data, CONFIG)\n",
    "    results, pred_labels, true_labels = evaluate_and_save(trainer, tokenized_data, CONFIG)\n",
    "    \n",
    "    print(\"\\n\" + \"=\"*60)\n",
    "    print(\"FULL FINE-TUNING COMPLETE!\")\n",
    "    print(\"=\"*60)\n",
    "\n",
    "if __name__ == \"__main__\":\n",
    "    main()\n",
    "\n"
   ]
  },
  {
   "cell_type": "code",
   "execution_count": 3,
   "metadata": {
    "execution": {
     "iopub.execute_input": "2025-10-21T01:12:27.851334Z",
     "iopub.status.busy": "2025-10-21T01:12:27.850770Z",
     "iopub.status.idle": "2025-10-21T01:12:30.448043Z",
     "shell.execute_reply": "2025-10-21T01:12:30.447017Z",
     "shell.execute_reply.started": "2025-10-21T01:12:27.851313Z"
    },
    "trusted": true
   },
   "outputs": [
    {
     "name": "stderr",
     "output_type": "stream",
     "text": [
      "huggingface/tokenizers: The current process just got forked, after parallelism has already been used. Disabling parallelism to avoid deadlocks...\n",
      "To disable this warning, you can either:\n",
      "\t- Avoid using `tokenizers` before the fork if possible\n",
      "\t- Explicitly set the environment variable TOKENIZERS_PARALLELISM=(true | false)\n",
      "huggingface/tokenizers: The current process just got forked, after parallelism has already been used. Disabling parallelism to avoid deadlocks...\n",
      "To disable this warning, you can either:\n",
      "\t- Avoid using `tokenizers` before the fork if possible\n",
      "\t- Explicitly set the environment variable TOKENIZERS_PARALLELISM=(true | false)\n"
     ]
    },
    {
     "name": "stdout",
     "output_type": "stream",
     "text": [
      "full_finetuning  full_finetuning_results.json\n"
     ]
    },
    {
     "name": "stderr",
     "output_type": "stream",
     "text": [
      "huggingface/tokenizers: The current process just got forked, after parallelism has already been used. Disabling parallelism to avoid deadlocks...\n",
      "To disable this warning, you can either:\n",
      "\t- Avoid using `tokenizers` before the fork if possible\n",
      "\t- Explicitly set the environment variable TOKENIZERS_PARALLELISM=(true | false)\n"
     ]
    }
   ],
   "source": [
    "!mkdir -p /kaggle/outputs/results_full/\n",
    "!cp -r /kaggle/working/results/* /kaggle/outputs/results_full/\n",
    "!ls /kaggle/outputs/results_full/\n"
   ]
  },
  {
   "cell_type": "code",
   "execution_count": null,
   "metadata": {
    "execution": {
     "iopub.execute_input": "2025-10-21T01:12:30.449876Z",
     "iopub.status.busy": "2025-10-21T01:12:30.449572Z",
     "iopub.status.idle": "2025-10-21T02:04:58.113552Z",
     "shell.execute_reply": "2025-10-21T02:04:58.112858Z",
     "shell.execute_reply.started": "2025-10-21T01:12:30.449852Z"
    },
    "trusted": true
   },
   "outputs": [
    {
     "name": "stdout",
     "output_type": "stream",
     "text": [
      "============================================================\n",
      "STRATEGY 2: LORA FINE-TUNING\n",
      "============================================================\n",
      "Loading IMDb dataset...\n",
      "Tokenizing dataset...\n"
     ]
    },
    {
     "data": {
      "application/vnd.jupyter.widget-view+json": {
       "model_id": "e2d5f7445cbf41f2a72a1c58faf7feaf",
       "version_major": 2,
       "version_minor": 0
      },
      "text/plain": [
       "Map:   0%|          | 0/25000 [00:00<?, ? examples/s]"
      ]
     },
     "metadata": {},
     "output_type": "display_data"
    },
    {
     "data": {
      "application/vnd.jupyter.widget-view+json": {
       "model_id": "75be961d35cd4a21b9a523ae86d48044",
       "version_major": 2,
       "version_minor": 0
      },
      "text/plain": [
       "Map:   0%|          | 0/25000 [00:00<?, ? examples/s]"
      ]
     },
     "metadata": {},
     "output_type": "display_data"
    },
    {
     "data": {
      "application/vnd.jupyter.widget-view+json": {
       "model_id": "942f78e0577f4ed18ab1b7a4621891f1",
       "version_major": 2,
       "version_minor": 0
      },
      "text/plain": [
       "Map:   0%|          | 0/50000 [00:00<?, ? examples/s]"
      ]
     },
     "metadata": {},
     "output_type": "display_data"
    },
    {
     "name": "stderr",
     "output_type": "stream",
     "text": [
      "Some weights of DistilBertForSequenceClassification were not initialized from the model checkpoint at distilbert-base-uncased and are newly initialized: ['classifier.bias', 'classifier.weight', 'pre_classifier.bias', 'pre_classifier.weight']\n",
      "You should probably TRAIN this model on a down-stream task to be able to use it for predictions and inference.\n"
     ]
    },
    {
     "name": "stdout",
     "output_type": "stream",
     "text": [
      "\n",
      "Finding Linear layers in model...\n",
      "  distilbert.transformer.layer.0.attention.q_lin\n",
      "  distilbert.transformer.layer.0.attention.k_lin\n",
      "  distilbert.transformer.layer.0.attention.v_lin\n",
      "  distilbert.transformer.layer.0.attention.out_lin\n",
      "  distilbert.transformer.layer.0.ffn.lin1\n",
      "  distilbert.transformer.layer.0.ffn.lin2\n",
      "  distilbert.transformer.layer.1.attention.q_lin\n",
      "  distilbert.transformer.layer.1.attention.k_lin\n",
      "  distilbert.transformer.layer.1.attention.v_lin\n",
      "  distilbert.transformer.layer.1.attention.out_lin\n",
      "\n",
      "Applying LoRA with target_modules: ['q_lin', 'k_lin', 'v_lin']\n",
      "trainable params: 813,314 || all params: 67,768,324 || trainable%: 1.2001388731407907\n",
      "\n",
      "Training LoRA Fine-tuning...\n"
     ]
    },
    {
     "data": {
      "text/html": [
       "\n",
       "    <div>\n",
       "      \n",
       "      <progress value='2346' max='2346' style='width:300px; height:20px; vertical-align: middle;'></progress>\n",
       "      [2346/2346 42:17, Epoch 3/3]\n",
       "    </div>\n",
       "    <table border=\"1\" class=\"dataframe\">\n",
       "  <thead>\n",
       " <tr style=\"text-align: left;\">\n",
       "      <th>Epoch</th>\n",
       "      <th>Training Loss</th>\n",
       "      <th>Validation Loss</th>\n",
       "      <th>Accuracy</th>\n",
       "      <th>F1</th>\n",
       "    </tr>\n",
       "  </thead>\n",
       "  <tbody>\n",
       "    <tr>\n",
       "      <td>1</td>\n",
       "      <td>0.273400</td>\n",
       "      <td>0.264179</td>\n",
       "      <td>0.889720</td>\n",
       "      <td>0.888557</td>\n",
       "    </tr>\n",
       "    <tr>\n",
       "      <td>2</td>\n",
       "      <td>0.262500</td>\n",
       "      <td>0.247060</td>\n",
       "      <td>0.899400</td>\n",
       "      <td>0.898536</td>\n",
       "    </tr>\n",
       "    <tr>\n",
       "      <td>3</td>\n",
       "      <td>0.268500</td>\n",
       "      <td>0.242762</td>\n",
       "      <td>0.900920</td>\n",
       "      <td>0.901452</td>\n",
       "    </tr>\n",
       "  </tbody>\n",
       "</table><p>"
      ],
      "text/plain": [
       "<IPython.core.display.HTML object>"
      ]
     },
     "metadata": {},
     "output_type": "display_data"
    },
    {
     "name": "stdout",
     "output_type": "stream",
     "text": [
      "\n",
      "Evaluating LoRA Fine-tuning...\n"
     ]
    },
    {
     "data": {
      "text/html": [],
      "text/plain": [
       "<IPython.core.display.HTML object>"
      ]
     },
     "metadata": {},
     "output_type": "display_data"
    },
    {
     "name": "stdout",
     "output_type": "stream",
     "text": [
      "\n",
      "LoRA Fine-tuning Results:\n",
      "  Accuracy: 0.9009\n",
      "  F1-score: 0.9015\n",
      "  Total params: 67,768,324\n",
      "  Trainable params: 813,314\n",
      "  LoRA rank: 8\n",
      "\n",
      "✓ Results saved to: /kaggle/working/results/lora_results.json\n",
      "\n",
      "============================================================\n",
      "LORA FINE-TUNING COMPLETE!\n",
      "============================================================\n"
     ]
    }
   ],
   "source": [
    "import torch\n",
    "import numpy as np\n",
    "import os\n",
    "import json\n",
    "from datetime import datetime\n",
    "import warnings\n",
    "warnings.filterwarnings('ignore')\n",
    "\n",
    "os.environ[\"WANDB_DISABLED\"] = \"true\"\n",
    "\n",
    "from datasets import load_dataset\n",
    "from transformers import (\n",
    "    AutoTokenizer, AutoModelForSequenceClassification,\n",
    "    TrainingArguments, Trainer, DataCollatorWithPadding\n",
    ")\n",
    "# ==== Prompted by GPT to bypass chat template bug ====\n",
    "import transformers.utils.hub as hub_utils\n",
    "hub_utils.list_repo_templates = lambda *args, **kwargs: []\n",
    "\n",
    "from peft import get_peft_model, LoraConfig, TaskType\n",
    "from sklearn.metrics import accuracy_score, f1_score\n",
    "import matplotlib.pyplot as plt\n",
    "\n",
    "CONFIG = {\n",
    "    \"model_name\": \"distilbert-base-uncased\",\n",
    "    \"dataset_name\": \"imdb\",\n",
    "    \"max_length\": 512,\n",
    "    \"batch_size\": 16,\n",
    "    \"learning_rate\": 2e-5,\n",
    "    \"num_epochs\": 3,\n",
    "    \"seed\": 42,\n",
    "    \"output_dir\": \"/kaggle/working/results\",\n",
    "    \"lora_r\": 8,\n",
    "    \"lora_alpha\": 32,\n",
    "    \"lora_dropout\": 0.1,\n",
    "}\n",
    "\n",
    "def set_seed(seed):\n",
    "    np.random.seed(seed)\n",
    "    torch.manual_seed(seed)\n",
    "    if torch.cuda.is_available():\n",
    "        torch.cuda.manual_seed_all(seed)\n",
    "\n",
    "def load_and_prepare_data(config):\n",
    "    print(\"Loading IMDb dataset...\")\n",
    "    dataset = load_dataset(config[\"dataset_name\"])\n",
    "    \n",
    "\n",
    "    tokenizer = AutoTokenizer.from_pretrained(\n",
    "        config[\"model_name\"],\n",
    "        use_fast=True,\n",
    "        trust_remote_code=False\n",
    "    )\n",
    "    \n",
    "    def tokenize_fn(examples):\n",
    "        return tokenizer(\n",
    "            examples[\"text\"],\n",
    "            max_length=config[\"max_length\"],\n",
    "            truncation=True,\n",
    "            padding=True\n",
    "        )\n",
    "    \n",
    "    print(\"Tokenizing dataset...\")\n",
    "    tokenized = dataset.map(tokenize_fn, batched=True, remove_columns=[\"text\"])\n",
    "    tokenized = tokenized.rename_column(\"label\", \"labels\")\n",
    "    \n",
    "    return tokenized, tokenizer\n",
    "\n",
    "def setup_lora_model(config):\n",
    "    model = AutoModelForSequenceClassification.from_pretrained(\n",
    "        config[\"model_name\"],\n",
    "        num_labels=2\n",
    "    )\n",
    "    \n",
    "    # Print all module names to debug\n",
    "    print(\"\\nFinding Linear layers in model...\")\n",
    "    linear_layers = []\n",
    "    for name, module in model.named_modules():\n",
    "        if 'Linear' in str(type(module)):\n",
    "            linear_layers.append(name)\n",
    "            if len(linear_layers) <= 10: \n",
    "                print(f\"  {name}\")\n",
    "\n",
    "    target_modules = [\"q_lin\", \"k_lin\", \"v_lin\"]\n",
    "    \n",
    " \n",
    "    \n",
    "    peft_config = LoraConfig(\n",
    "        task_type=TaskType.SEQ_CLS,\n",
    "        r=config[\"lora_r\"],\n",
    "        lora_alpha=config[\"lora_alpha\"],\n",
    "        lora_dropout=config[\"lora_dropout\"],\n",
    "        target_modules=target_modules,\n",
    "        bias=\"none\",\n",
    "    )\n",
    "    \n",
    "    print(f\"\\nApplying LoRA with target_modules: {target_modules}\")\n",
    "    try:\n",
    "        model = get_peft_model(model, peft_config)\n",
    "        model.print_trainable_parameters()\n",
    "    except ValueError as e:\n",
    "        print(f\"\\n Error: {e}\")\n",
    "        print(\"\\nAvailable linear layers found:\")\n",
    "        for layer in linear_layers[:20]:\n",
    "            print(f\"  - {layer}\")\n",
    "        raise\n",
    "    \n",
    "    return model\n",
    "\n",
    "def compute_metrics(eval_pred):\n",
    "    predictions, labels = eval_pred\n",
    "    predictions = np.argmax(predictions, axis=1)\n",
    "    accuracy = accuracy_score(labels, predictions)\n",
    "    f1 = f1_score(labels, predictions)\n",
    "    return {\"accuracy\": accuracy, \"f1\": f1}\n",
    "\n",
    "def train_model(model, tokenized_data, config):\n",
    "    training_args = TrainingArguments(\n",
    "        output_dir=f\"{config['output_dir']}/lora_finetuning\",\n",
    "        overwrite_output_dir=True,\n",
    "        num_train_epochs=config[\"num_epochs\"],\n",
    "        per_device_train_batch_size=config[\"batch_size\"],\n",
    "        per_device_eval_batch_size=config[\"batch_size\"],\n",
    "        learning_rate=config[\"learning_rate\"],\n",
    "        logging_steps=100,\n",
    "        evaluation_strategy=\"epoch\",  \n",
    "\n",
    "        save_strategy=\"epoch\",\n",
    "        load_best_model_at_end=True,\n",
    "        metric_for_best_model=\"f1\",\n",
    "        seed=config[\"seed\"],\n",
    "        report_to=\"none\",  \n",
    "    )\n",
    "    \n",
    "    tokenizer = AutoTokenizer.from_pretrained(\n",
    "        config[\"model_name\"],\n",
    "        use_fast=True,\n",
    "        trust_remote_code=False\n",
    "    )\n",
    "    data_collator = DataCollatorWithPadding(tokenizer)\n",
    "    \n",
    "    trainer = Trainer(\n",
    "        model=model,\n",
    "        args=training_args,\n",
    "        train_dataset=tokenized_data[\"train\"],\n",
    "        eval_dataset=tokenized_data[\"test\"],\n",
    "        compute_metrics=compute_metrics,\n",
    "        data_collator=data_collator,\n",
    "    )\n",
    "    \n",
    "    print(\"\\nTraining LoRA Fine-tuning...\")\n",
    "    trainer.train()\n",
    "    return trainer\n",
    "\n",
    "def evaluate_and_save(trainer, tokenized_data, config):\n",
    "    print(\"\\nEvaluating LoRA Fine-tuning...\")\n",
    "    eval_results = trainer.evaluate()\n",
    "    \n",
    "    predictions = trainer.predict(tokenized_data[\"test\"])\n",
    "    pred_labels = np.argmax(predictions.predictions, axis=1)\n",
    "    true_labels = tokenized_data[\"test\"][\"labels\"]\n",
    "    \n",
    "    results = {\n",
    "        \"strategy\": \"LoRA Fine-tuning\",\n",
    "        \"accuracy\": eval_results.get(\"eval_accuracy\", 0),\n",
    "        \"f1\": eval_results.get(\"eval_f1\", 0),\n",
    "        \"model_size\": sum(p.numel() for p in trainer.model.parameters()),\n",
    "        \"trainable_params\": sum(p.numel() for p in trainer.model.parameters() if p.requires_grad),\n",
    "        \"lora_config\": {\n",
    "            \"r\": config[\"lora_r\"],\n",
    "            \"alpha\": config[\"lora_alpha\"],\n",
    "            \"dropout\": config[\"lora_dropout\"],\n",
    "        }\n",
    "    }\n",
    "    \n",
    "    print(f\"\\nLoRA Fine-tuning Results:\")\n",
    "    print(f\"  Accuracy: {results['accuracy']:.4f}\")\n",
    "    print(f\"  F1-score: {results['f1']:.4f}\")\n",
    "    print(f\"  Total params: {results['model_size']:,}\")\n",
    "    print(f\"  Trainable params: {results['trainable_params']:,}\")\n",
    "    print(f\"  LoRA rank: {config['lora_r']}\")\n",
    "    \n",
    "    os.makedirs(config[\"output_dir\"], exist_ok=True)\n",
    "    results_summary = {\n",
    "        \"timestamp\": datetime.now().isoformat(),\n",
    "        \"config\": config,\n",
    "        \"results\": results,\n",
    "    }\n",
    "    \n",
    "    with open(f\"{config['output_dir']}/lora_results.json\", \"w\") as f:\n",
    "        json.dump(results_summary, f, indent=2)\n",
    "    print(f\"\\n✓ Results saved to: {config['output_dir']}/lora_results.json\")\n",
    "    \n",
    "    return results, pred_labels, true_labels\n",
    "\n",
    "def main():\n",
    "    set_seed(CONFIG[\"seed\"])\n",
    "    os.makedirs(CONFIG[\"output_dir\"], exist_ok=True)\n",
    "    \n",
    "    print(\"=\"*60)\n",
    "    print(\"STRATEGY 2: LORA FINE-TUNING\")\n",
    "    print(\"=\"*60)\n",
    "\n",
    "    # Prepare and train the model\n",
    "\n",
    "    tokenized_data, tokenizer = load_and_prepare_data(CONFIG)\n",
    "    \n",
    "    model = setup_lora_model(CONFIG)\n",
    "    trainer = train_model(model, tokenized_data, CONFIG)\n",
    "    results, pred_labels, true_labels = evaluate_and_save(trainer, tokenized_data, CONFIG)\n",
    "    \n",
    "    print(\"\\n\" + \"=\"*60)\n",
    "    print(\"LORA FINE-TUNING COMPLETE!\")\n",
    "    print(\"=\"*60)\n",
    "\n",
    "if __name__ == \"__main__\":\n",
    "    main()"
   ]
  },
  {
   "cell_type": "code",
   "execution_count": 5,
   "metadata": {
    "execution": {
     "iopub.execute_input": "2025-10-21T02:04:58.115213Z",
     "iopub.status.busy": "2025-10-21T02:04:58.114670Z",
     "iopub.status.idle": "2025-10-21T02:04:59.496039Z",
     "shell.execute_reply": "2025-10-21T02:04:59.495253Z",
     "shell.execute_reply.started": "2025-10-21T02:04:58.115192Z"
    },
    "trusted": true
   },
   "outputs": [
    {
     "name": "stdout",
     "output_type": "stream",
     "text": [
      "✓ Saved: /kaggle/working/plots/metrics_comparison.png\n",
      "✓ Saved: /kaggle/working/plots/parameter_efficiency.png\n",
      "\n",
      "============================================================\n",
      "RESULTS SUMMARY\n",
      "============================================================\n",
      "\n",
      "Strategy                  Accuracy     F1-Score     Trainable Params    \n",
      "----------------------------------------------------------------------\n",
      "Full Fine-tuning          0.9307       0.9312       66.96               M\n",
      "LoRA Fine-tuning          0.9009       0.9015       0.81                M\n",
      "----------------------------------------------------------------------\n",
      "\n",
      "Parameter Reduction: 98.8%\n",
      "Accuracy Difference: 2.98%\n",
      "\n",
      "Conclusion: LoRA achieves 98.8% parameter reduction\n",
      "with only 2.98% accuracy drop!\n"
     ]
    },
    {
     "data": {
      "image/png": "[encoded data removed]",
      "text/plain": [
       "<Figure size 1200x400 with 2 Axes>"
      ]
     },
     "metadata": {},
     "output_type": "display_data"
    },
    {
     "data": {
      "image/png": "[encoded data removed]",
      "text/plain": [
       "<Figure size 1000x500 with 1 Axes>"
      ]
     },
     "metadata": {},
     "output_type": "display_data"
    }
   ],
   "source": [
    "import json\n",
    "import matplotlib.pyplot as plt\n",
    "import os\n",
    "\n",
    "# Load results from both model\n",
    "def load_results():\n",
    "    with open(\"/kaggle/working/results/full_finetuning_results.json\", \"r\") as f:\n",
    "        full_results = json.load(f)\n",
    "    \n",
    "    with open(\"/kaggle/working/results/lora_results.json\", \"r\") as f:\n",
    "        lora_results = json.load(f)\n",
    "    \n",
    "    return full_results[\"results\"], lora_results[\"results\"]\n",
    "\n",
    "def plot_comparison(results_full, results_lora):\n",
    "    \"\"\"Create comparison visualizations.\"\"\"\n",
    "    os.makedirs(\"/kaggle/working/plots\", exist_ok=True)\n",
    "    \n",
    "    # Metrics comparison\n",
    "    fig, axes = plt.subplots(1, 2, figsize=(12, 4))\n",
    "    \n",
    "    strategies = [\"Full Fine-tuning\", \"LoRA\"]\n",
    "    accuracies = [results_full[\"accuracy\"], results_lora[\"accuracy\"]]\n",
    "    f1_scores = [results_full[\"f1\"], results_lora[\"f1\"]]\n",
    "    \n",
    "    axes[0].bar(strategies, accuracies, color=[\"#3498db\", \"#e74c3c\"])\n",
    "    axes[0].set_ylabel(\"Accuracy\")\n",
    "    axes[0].set_title(\"Accuracy Comparison\")\n",
    "    axes[0].set_ylim([0.8, 1.0])\n",
    "    for i, v in enumerate(accuracies):\n",
    "        axes[0].text(i, v + 0.005, f\"{v:.4f}\", ha=\"center\")\n",
    "    \n",
    "    axes[1].bar(strategies, f1_scores, color=[\"#3498db\", \"#e74c3c\"])\n",
    "    axes[1].set_ylabel(\"F1-score\")\n",
    "    axes[1].set_title(\"F1-score Comparison\")\n",
    "    axes[1].set_ylim([0.8, 1.0])\n",
    "    for i, v in enumerate(f1_scores):\n",
    "        axes[1].text(i, v + 0.005, f\"{v:.4f}\", ha=\"center\")\n",
    "    \n",
    "    plt.tight_layout()\n",
    "    plt.savefig(\"/kaggle/working/plots/metrics_comparison.png\", dpi=300, bbox_inches=\"tight\")\n",
    "    print(\"✓ Saved: /kaggle/working/plots/metrics_comparison.png\")\n",
    "    \n",
    "    # Parameter efficiency\n",
    "    fig, ax = plt.subplots(figsize=(10, 5))\n",
    "    strategies_list = [results_full[\"strategy\"], results_lora[\"strategy\"]]\n",
    "    trainable = [results_full[\"trainable_params\"], results_lora[\"trainable_params\"]]\n",
    "    colors = [\"#3498db\", \"#e74c3c\"]\n",
    "    \n",
    "    bars = ax.bar(strategies_list, trainable, color=colors)\n",
    "    ax.set_ylabel(\"Number of Trainable Parameters\")\n",
    "    ax.set_title(\"Parameter Efficiency Comparison\")\n",
    "    \n",
    "    for bar, val in zip(bars, trainable):\n",
    "        height = bar.get_height()\n",
    "        ax.text(bar.get_x() + bar.get_width()/2., height,\n",
    "                f\"{val/1e6:.2f}M\", ha=\"center\", va=\"bottom\")\n",
    "    \n",
    "    plt.tight_layout()\n",
    "    plt.savefig(\"/kaggle/working/plots/parameter_efficiency.png\", dpi=300, bbox_inches=\"tight\")\n",
    "    print(\"✓ Saved: /kaggle/working/plots/parameter_efficiency.png\")\n",
    "    \n",
    "    # Print summary table\n",
    "    print(\"\\n\" + \"=\"*60)\n",
    "    print(\"RESULTS SUMMARY\")\n",
    "    print(\"=\"*60)\n",
    "    print(f\"\\n{'Strategy':<25} {'Accuracy':<12} {'F1-Score':<12} {'Trainable Params':<20}\")\n",
    "    print(\"-\" * 70)\n",
    "    print(f\"{results_full['strategy']:<25} {results_full['accuracy']:<12.4f} {results_full['f1']:<12.4f} {results_full['trainable_params']/1e6:<20.2f}M\")\n",
    "    print(f\"{results_lora['strategy']:<25} {results_lora['accuracy']:<12.4f} {results_lora['f1']:<12.4f} {results_lora['trainable_params']/1e6:<20.2f}M\")\n",
    "    print(\"-\" * 70)\n",
    "    \n",
    "    param_reduction = (1 - results_lora['trainable_params'] / results_full['trainable_params']) * 100\n",
    "    acc_diff = (results_full['accuracy'] - results_lora['accuracy']) * 100\n",
    "    \n",
    "    print(f\"\\nParameter Reduction: {param_reduction:.1f}%\")\n",
    "    print(f\"Accuracy Difference: {acc_diff:.2f}%\")\n",
    "    print(f\"\\nConclusion: LoRA achieves {param_reduction:.1f}% parameter reduction\")\n",
    "    print(f\"with only {acc_diff:.2f}% accuracy drop!\")\n",
    "\n",
    "if __name__ == \"__main__\":\n",
    "    results_full, results_lora = load_results()\n",
    "    plot_comparison(results_full, results_lora)"
   ]
  },
  {
   "cell_type": "code",
   "execution_count": 7,
   "metadata": {
    "execution": {
     "iopub.execute_input": "2025-10-21T02:21:22.582526Z",
     "iopub.status.busy": "2025-10-21T02:21:22.581414Z",
     "iopub.status.idle": "2025-10-21T02:21:28.090700Z",
     "shell.execute_reply": "2025-10-21T02:21:28.089739Z",
     "shell.execute_reply.started": "2025-10-21T02:21:22.582483Z"
    },
    "trusted": true
   },
   "outputs": [
    {
     "name": "stderr",
     "output_type": "stream",
     "text": [
      "huggingface/tokenizers: The current process just got forked, after parallelism has already been used. Disabling parallelism to avoid deadlocks...\n",
      "To disable this warning, you can either:\n",
      "\t- Avoid using `tokenizers` before the fork if possible\n",
      "\t- Explicitly set the environment variable TOKENIZERS_PARALLELISM=(true | false)\n",
      "huggingface/tokenizers: The current process just got forked, after parallelism has already been used. Disabling parallelism to avoid deadlocks...\n",
      "To disable this warning, you can either:\n",
      "\t- Avoid using `tokenizers` before the fork if possible\n",
      "\t- Explicitly set the environment variable TOKENIZERS_PARALLELISM=(true | false)\n"
     ]
    },
    {
     "name": "stdout",
     "output_type": "stream",
     "text": [
      "full_finetuning\t\t      lora_finetuning\n",
      "full_finetuning_results.json  lora_results.json\n"
     ]
    },
    {
     "name": "stderr",
     "output_type": "stream",
     "text": [
      "huggingface/tokenizers: The current process just got forked, after parallelism has already been used. Disabling parallelism to avoid deadlocks...\n",
      "To disable this warning, you can either:\n",
      "\t- Avoid using `tokenizers` before the fork if possible\n",
      "\t- Explicitly set the environment variable TOKENIZERS_PARALLELISM=(true | false)\n"
     ]
    }
   ],
   "source": [
    "!mkdir -p /kaggle/outputs/results_lora/\n",
    "!cp -r /kaggle/working/results/* /kaggle/outputs/results_lora/\n",
    "!ls /kaggle/outputs/results_lora/\n"
   ]
  }
 ],
 "metadata": {
  "kaggle": {
   "accelerator": "nvidiaTeslaT4",
   "dataSources": [],
   "dockerImageVersionId": 31154,
   "isGpuEnabled": true,
   "isInternetEnabled": true,
   "language": "python",
   "sourceType": "notebook"
  },
  "kernelspec": {
   "display_name": "Python 3",
   "language": "python",
   "name": "python3"
  },
  "language_info": {
   "codemirror_mode": {
    "name": "ipython",
    "version": 3
   },
   "file_extension": ".py",
   "mimetype": "text/x-python",
   "name": "python",
   "nbconvert_exporter": "python",
   "pygments_lexer": "ipython3",
   "version": "3.11.13"
  }
 },
 "nbformat": 4,
 "nbformat_minor": 4
}
